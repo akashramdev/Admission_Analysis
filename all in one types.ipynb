{
 "cells": [
  {
   "cell_type": "markdown",
   "metadata": {},
   "source": [
    "# Imported Admission Dataset"
   ]
  },
  {
   "cell_type": "code",
   "execution_count": 66,
   "metadata": {},
   "outputs": [
    {
     "data": {
      "text/html": [
       "<div>\n",
       "<style scoped>\n",
       "    .dataframe tbody tr th:only-of-type {\n",
       "        vertical-align: middle;\n",
       "    }\n",
       "\n",
       "    .dataframe tbody tr th {\n",
       "        vertical-align: top;\n",
       "    }\n",
       "\n",
       "    .dataframe thead th {\n",
       "        text-align: right;\n",
       "    }\n",
       "</style>\n",
       "<table border=\"1\" class=\"dataframe\">\n",
       "  <thead>\n",
       "    <tr style=\"text-align: right;\">\n",
       "      <th></th>\n",
       "      <th>Serial No.</th>\n",
       "      <th>GRE Score</th>\n",
       "      <th>TOEFL Score</th>\n",
       "      <th>University Rating</th>\n",
       "      <th>SOP</th>\n",
       "      <th>LOR</th>\n",
       "      <th>CGPA</th>\n",
       "      <th>Research</th>\n",
       "      <th>Chance of Admit</th>\n",
       "    </tr>\n",
       "  </thead>\n",
       "  <tbody>\n",
       "    <tr>\n",
       "      <th>0</th>\n",
       "      <td>1</td>\n",
       "      <td>337</td>\n",
       "      <td>118</td>\n",
       "      <td>4</td>\n",
       "      <td>4.5</td>\n",
       "      <td>4.5</td>\n",
       "      <td>9.65</td>\n",
       "      <td>1</td>\n",
       "      <td>0.92</td>\n",
       "    </tr>\n",
       "    <tr>\n",
       "      <th>1</th>\n",
       "      <td>2</td>\n",
       "      <td>324</td>\n",
       "      <td>107</td>\n",
       "      <td>4</td>\n",
       "      <td>4.0</td>\n",
       "      <td>4.5</td>\n",
       "      <td>8.87</td>\n",
       "      <td>1</td>\n",
       "      <td>0.76</td>\n",
       "    </tr>\n",
       "    <tr>\n",
       "      <th>2</th>\n",
       "      <td>3</td>\n",
       "      <td>316</td>\n",
       "      <td>104</td>\n",
       "      <td>3</td>\n",
       "      <td>3.0</td>\n",
       "      <td>3.5</td>\n",
       "      <td>8.00</td>\n",
       "      <td>1</td>\n",
       "      <td>0.72</td>\n",
       "    </tr>\n",
       "    <tr>\n",
       "      <th>3</th>\n",
       "      <td>4</td>\n",
       "      <td>322</td>\n",
       "      <td>110</td>\n",
       "      <td>3</td>\n",
       "      <td>3.5</td>\n",
       "      <td>2.5</td>\n",
       "      <td>8.67</td>\n",
       "      <td>1</td>\n",
       "      <td>0.80</td>\n",
       "    </tr>\n",
       "    <tr>\n",
       "      <th>4</th>\n",
       "      <td>5</td>\n",
       "      <td>314</td>\n",
       "      <td>103</td>\n",
       "      <td>2</td>\n",
       "      <td>2.0</td>\n",
       "      <td>3.0</td>\n",
       "      <td>8.21</td>\n",
       "      <td>0</td>\n",
       "      <td>0.65</td>\n",
       "    </tr>\n",
       "  </tbody>\n",
       "</table>\n",
       "</div>"
      ],
      "text/plain": [
       "   Serial No.  GRE Score  TOEFL Score  University Rating  SOP  LOR   CGPA  \\\n",
       "0           1        337          118                  4  4.5   4.5  9.65   \n",
       "1           2        324          107                  4  4.0   4.5  8.87   \n",
       "2           3        316          104                  3  3.0   3.5  8.00   \n",
       "3           4        322          110                  3  3.5   2.5  8.67   \n",
       "4           5        314          103                  2  2.0   3.0  8.21   \n",
       "\n",
       "   Research  Chance of Admit   \n",
       "0         1              0.92  \n",
       "1         1              0.76  \n",
       "2         1              0.72  \n",
       "3         1              0.80  \n",
       "4         0              0.65  "
      ]
     },
     "execution_count": 66,
     "metadata": {},
     "output_type": "execute_result"
    }
   ],
   "source": [
    "import pandas as pd\n",
    "import numpy as np\n",
    "from sklearn.preprocessing import LabelEncoder\n",
    "\n",
    "df = pd.read_csv('Admission_Predict_Ver2.csv')\n",
    "df.head()"
   ]
  },
  {
   "cell_type": "markdown",
   "metadata": {},
   "source": [
    "# View Column Information"
   ]
  },
  {
   "cell_type": "code",
   "execution_count": 2,
   "metadata": {},
   "outputs": [
    {
     "name": "stdout",
     "output_type": "stream",
     "text": [
      "       Serial No.   GRE Score  TOEFL Score  University Rating         SOP  \\\n",
      "count  500.000000  500.000000   500.000000         500.000000  500.000000   \n",
      "mean   250.500000  316.472000   107.192000           3.114000    3.374000   \n",
      "std    144.481833   11.295148     6.081868           1.143512    0.991004   \n",
      "min      1.000000  290.000000    92.000000           1.000000    1.000000   \n",
      "25%    125.750000  308.000000   103.000000           2.000000    2.500000   \n",
      "50%    250.500000  317.000000   107.000000           3.000000    3.500000   \n",
      "75%    375.250000  325.000000   112.000000           4.000000    4.000000   \n",
      "max    500.000000  340.000000   120.000000           5.000000    5.000000   \n",
      "\n",
      "            LOR         CGPA    Research  Chance of Admit   \n",
      "count  500.00000  500.000000  500.000000         500.00000  \n",
      "mean     3.48400    8.576440    0.560000           0.72174  \n",
      "std      0.92545    0.604813    0.496884           0.14114  \n",
      "min      1.00000    6.800000    0.000000           0.34000  \n",
      "25%      3.00000    8.127500    0.000000           0.63000  \n",
      "50%      3.50000    8.560000    1.000000           0.72000  \n",
      "75%      4.00000    9.040000    1.000000           0.82000  \n",
      "max      5.00000    9.920000    1.000000           0.97000  \n"
     ]
    }
   ],
   "source": [
    "print(df.describe())"
   ]
  },
  {
   "cell_type": "markdown",
   "metadata": {},
   "source": [
    "# View Data"
   ]
  },
  {
   "cell_type": "code",
   "execution_count": 3,
   "metadata": {},
   "outputs": [
    {
     "name": "stdout",
     "output_type": "stream",
     "text": [
      "   Serial No.  GRE Score  TOEFL Score  University Rating  SOP  LOR   CGPA  \\\n",
      "0           1        337          118                  4  4.5   4.5  9.65   \n",
      "1           2        324          107                  4  4.0   4.5  8.87   \n",
      "2           3        316          104                  3  3.0   3.5  8.00   \n",
      "3           4        322          110                  3  3.5   2.5  8.67   \n",
      "4           5        314          103                  2  2.0   3.0  8.21   \n",
      "\n",
      "   Research  Chance of Admit   \n",
      "0         1              0.92  \n",
      "1         1              0.76  \n",
      "2         1              0.72  \n",
      "3         1              0.80  \n",
      "4         0              0.65  \n",
      "<class 'pandas.core.frame.DataFrame'>\n",
      "RangeIndex: 500 entries, 0 to 499\n",
      "Data columns (total 9 columns):\n",
      " #   Column             Non-Null Count  Dtype  \n",
      "---  ------             --------------  -----  \n",
      " 0   Serial No.         500 non-null    int64  \n",
      " 1   GRE Score          500 non-null    int64  \n",
      " 2   TOEFL Score        500 non-null    int64  \n",
      " 3   University Rating  500 non-null    int64  \n",
      " 4   SOP                500 non-null    float64\n",
      " 5   LOR                500 non-null    float64\n",
      " 6   CGPA               500 non-null    float64\n",
      " 7   Research           500 non-null    int64  \n",
      " 8   Chance of Admit    500 non-null    float64\n",
      "dtypes: float64(4), int64(5)\n",
      "memory usage: 35.3 KB\n",
      "None\n"
     ]
    }
   ],
   "source": [
    "print(df.head())\n",
    "print(df.info())"
   ]
  },
  {
   "cell_type": "markdown",
   "metadata": {},
   "source": [
    "# Checking Columns with Zeros"
   ]
  },
  {
   "cell_type": "code",
   "execution_count": 4,
   "metadata": {},
   "outputs": [
    {
     "name": "stdout",
     "output_type": "stream",
     "text": [
      "Columns With Zero\n",
      "Serial No.             0\n",
      "GRE Score              0\n",
      "TOEFL Score            0\n",
      "University Rating      0\n",
      "SOP                    0\n",
      "LOR                    0\n",
      "CGPA                   0\n",
      "Research             220\n",
      "Chance of Admit        0\n",
      "dtype: int64\n"
     ]
    }
   ],
   "source": [
    "print('Columns With Zero')\n",
    "print((df==0).sum())"
   ]
  },
  {
   "cell_type": "markdown",
   "metadata": {},
   "source": [
    "# Since, the Research Column is in the binary format hence, there are 220 0's"
   ]
  },
  {
   "cell_type": "markdown",
   "metadata": {},
   "source": [
    "# Checking Columns with Nulls"
   ]
  },
  {
   "cell_type": "code",
   "execution_count": 5,
   "metadata": {},
   "outputs": [
    {
     "name": "stdout",
     "output_type": "stream",
     "text": [
      "Columns With Nulls\n"
     ]
    },
    {
     "data": {
      "text/plain": [
       "Serial No.           0\n",
       "GRE Score            0\n",
       "TOEFL Score          0\n",
       "University Rating    0\n",
       "SOP                  0\n",
       "LOR                  0\n",
       "CGPA                 0\n",
       "Research             0\n",
       "Chance of Admit      0\n",
       "dtype: int64"
      ]
     },
     "execution_count": 5,
     "metadata": {},
     "output_type": "execute_result"
    }
   ],
   "source": [
    "print('Columns With Nulls')\n",
    "df.isnull().sum()"
   ]
  },
  {
   "cell_type": "markdown",
   "metadata": {},
   "source": [
    "# Dropping the Serial No. column as it is not required"
   ]
  },
  {
   "cell_type": "code",
   "execution_count": 6,
   "metadata": {},
   "outputs": [
    {
     "name": "stdout",
     "output_type": "stream",
     "text": [
      "   GRE Score  TOEFL Score  University Rating  SOP  LOR   CGPA  Research  \\\n",
      "0        337          118                  4  4.5   4.5  9.65         1   \n",
      "1        324          107                  4  4.0   4.5  8.87         1   \n",
      "2        316          104                  3  3.0   3.5  8.00         1   \n",
      "3        322          110                  3  3.5   2.5  8.67         1   \n",
      "4        314          103                  2  2.0   3.0  8.21         0   \n",
      "\n",
      "   Chance of Admit   \n",
      "0              0.92  \n",
      "1              0.76  \n",
      "2              0.72  \n",
      "3              0.80  \n",
      "4              0.65  \n"
     ]
    }
   ],
   "source": [
    "df = df.drop('Serial No.', axis = 1) \n",
    "print(df.head())"
   ]
  },
  {
   "cell_type": "markdown",
   "metadata": {},
   "source": [
    "# Applying Linear Regression on the dataset"
   ]
  },
  {
   "cell_type": "code",
   "execution_count": 7,
   "metadata": {},
   "outputs": [],
   "source": [
    "from sklearn.linear_model import LinearRegression\n",
    "from sklearn.model_selection import train_test_split\n",
    "X = df[['GRE Score', 'TOEFL Score', 'University Rating', 'SOP', 'LOR ', 'CGPA', 'Research']]\n",
    "y = df['Chance of Admit ']\n",
    "X_train, X_test, y_train, y_test = train_test_split(X, y, test_size = 0.25, random_state=150)\n",
    "lr = LinearRegression().fit(X_train, y_train)"
   ]
  },
  {
   "cell_type": "markdown",
   "metadata": {},
   "source": [
    "# Results"
   ]
  },
  {
   "cell_type": "code",
   "execution_count": 8,
   "metadata": {},
   "outputs": [
    {
     "name": "stdout",
     "output_type": "stream",
     "text": [
      "Training set score: 82.94\n",
      "Test set score: 80.08\n"
     ]
    }
   ],
   "source": [
    "print(\"Training set score: {:.2f}\".format(lr.score(X_train, y_train)*100))\n",
    "print(\"Test set score: {:.2f}\".format(lr.score(X_test, y_test)*100))"
   ]
  },
  {
   "cell_type": "code",
   "execution_count": 9,
   "metadata": {},
   "outputs": [],
   "source": [
    "# Define a new dataframe for final results \n",
    "data = {'Algorithms': ['Linear Regression'], \n",
    "        'Train Score': [lr.score(X_train,y_train)*100], \n",
    "        'Test Score': [lr.score(X_test, y_test)*100]} "
   ]
  },
  {
   "cell_type": "markdown",
   "metadata": {},
   "source": [
    "# Storing the results for final comparision"
   ]
  },
  {
   "cell_type": "code",
   "execution_count": 10,
   "metadata": {},
   "outputs": [
    {
     "name": "stdout",
     "output_type": "stream",
     "text": [
      "          Algorithms  Train Score  Test Score\n",
      "0  Linear Regression    82.944361   80.082878\n"
     ]
    }
   ],
   "source": [
    "dfnew = pd.DataFrame(data)\n",
    "print(dfnew)"
   ]
  },
  {
   "cell_type": "markdown",
   "metadata": {},
   "source": [
    "# Applying Support Vector Regression on the dataset"
   ]
  },
  {
   "cell_type": "code",
   "execution_count": 11,
   "metadata": {},
   "outputs": [],
   "source": [
    "from sklearn.svm import SVR\n",
    "import matplotlib.pyplot as plt\n",
    "X = df[['GRE Score', 'TOEFL Score', 'University Rating', 'SOP', 'LOR ', 'CGPA', 'Research']]\n",
    "y = df['Chance of Admit ']\n",
    "X_train, X_test, y_train, y_test = train_test_split(X, y, test_size = 0.25, random_state=90)"
   ]
  },
  {
   "cell_type": "markdown",
   "metadata": {},
   "source": [
    "# Results"
   ]
  },
  {
   "cell_type": "code",
   "execution_count": 12,
   "metadata": {},
   "outputs": [
    {
     "name": "stdout",
     "output_type": "stream",
     "text": [
      "Accuracy Linear Kernel on training set: 64.94116164223882\n",
      "Accuracy Linear Kernel on testing set: 71.66100706443024\n"
     ]
    }
   ],
   "source": [
    "svr_lin = SVR().fit(X_train, y_train)\n",
    "accuracy_svr_lin_train = svr_lin.score(X_train, y_train)\n",
    "accuracy_svr_lin_test = svr_lin.score(X_test, y_test)\n",
    "print('Accuracy Linear Kernel on training set:', accuracy_svr_lin_train*100)\n",
    "print('Accuracy Linear Kernel on testing set:', accuracy_svr_lin_test*100)\n"
   ]
  },
  {
   "cell_type": "markdown",
   "metadata": {},
   "source": [
    "# Storing the results for final comparision"
   ]
  },
  {
   "cell_type": "code",
   "execution_count": 13,
   "metadata": {},
   "outputs": [
    {
     "name": "stdout",
     "output_type": "stream",
     "text": [
      "          Algorithms  Train Score  Test Score\n",
      "0  Linear Regression    82.944361   80.082878\n",
      "1                SVR    64.941162   71.661007\n"
     ]
    }
   ],
   "source": [
    "dfnew = dfnew.append({'Algorithms' : 'SVR' , 'Train Score' : accuracy_svr_lin_train*100,\n",
    "                      'Test Score' : accuracy_svr_lin_test*100} , ignore_index=True)\n",
    "print(dfnew)"
   ]
  },
  {
   "cell_type": "markdown",
   "metadata": {},
   "source": [
    "# Applying Support Vector Regression with rbf kernel on the dataset"
   ]
  },
  {
   "cell_type": "code",
   "execution_count": 14,
   "metadata": {},
   "outputs": [
    {
     "name": "stdout",
     "output_type": "stream",
     "text": [
      "Accuracy Linear Kernel on training set: 74.39099582599796\n",
      "Accuracy Linear Kernel on testing set: 60.146619714858694\n"
     ]
    }
   ],
   "source": [
    "X = df[['GRE Score', 'TOEFL Score', 'University Rating', 'SOP', 'LOR ', 'CGPA', 'Research']]\n",
    "y = df['Chance of Admit ']\n",
    "X_train, X_test, y_train, y_test = train_test_split(X, y, test_size = 0.25, random_state=150)\n",
    "svr_rbf = SVR(kernel='rbf', C=100, gamma=0.1, epsilon=.1).fit(X_train, y_train)\n",
    "accuracy_svr_rbf_train = svr_rbf.score(X_train, y_train)\n",
    "accuracy_svr_rbf_test = svr_rbf.score(X_test, y_test)\n",
    "print('Accuracy Linear Kernel on training set:', accuracy_svr_rbf_train*100)\n",
    "print('Accuracy Linear Kernel on testing set:', accuracy_svr_rbf_test*100)\n"
   ]
  },
  {
   "cell_type": "code",
   "execution_count": 15,
   "metadata": {},
   "outputs": [
    {
     "name": "stdout",
     "output_type": "stream",
     "text": [
      "          Algorithms  Train Score  Test Score\n",
      "0  Linear Regression    82.944361   80.082878\n",
      "1                SVR    64.941162   71.661007\n",
      "2       SVR with rbf    74.390996   60.146620\n"
     ]
    }
   ],
   "source": [
    "dfnew = dfnew.append({'Algorithms' : 'SVR with rbf' , 'Train Score' : accuracy_svr_rbf_train*100,\n",
    "                      'Test Score' : accuracy_svr_rbf_test*100} , ignore_index=True)\n",
    "print(dfnew)"
   ]
  },
  {
   "cell_type": "markdown",
   "metadata": {},
   "source": [
    "# Performing Grid Search for SVR"
   ]
  },
  {
   "cell_type": "code",
   "execution_count": 16,
   "metadata": {},
   "outputs": [],
   "source": [
    "from sklearn.model_selection import GridSearchCV\n",
    "param_grid = {'C':[0.1,1,10,100], 'gamma':[1,0.1,0.01,0.001]}"
   ]
  },
  {
   "cell_type": "code",
   "execution_count": 17,
   "metadata": {},
   "outputs": [
    {
     "name": "stdout",
     "output_type": "stream",
     "text": [
      "Fitting 5 folds for each of 16 candidates, totalling 80 fits\n",
      "[CV 1/5] END .................................C=0.1, gamma=1; total time=   0.0s\n",
      "[CV 2/5] END .................................C=0.1, gamma=1; total time=   0.0s\n",
      "[CV 3/5] END .................................C=0.1, gamma=1; total time=   0.0s\n",
      "[CV 4/5] END .................................C=0.1, gamma=1; total time=   0.0s\n",
      "[CV 5/5] END .................................C=0.1, gamma=1; total time=   0.0s\n",
      "[CV 1/5] END ...............................C=0.1, gamma=0.1; total time=   0.0s\n",
      "[CV 2/5] END ...............................C=0.1, gamma=0.1; total time=   0.0s\n",
      "[CV 3/5] END ...............................C=0.1, gamma=0.1; total time=   0.0s\n",
      "[CV 4/5] END ...............................C=0.1, gamma=0.1; total time=   0.0s\n",
      "[CV 5/5] END ...............................C=0.1, gamma=0.1; total time=   0.0s\n",
      "[CV 1/5] END ..............................C=0.1, gamma=0.01; total time=   0.0s\n",
      "[CV 2/5] END ..............................C=0.1, gamma=0.01; total time=   0.0s\n",
      "[CV 3/5] END ..............................C=0.1, gamma=0.01; total time=   0.0s\n",
      "[CV 4/5] END ..............................C=0.1, gamma=0.01; total time=   0.0s\n",
      "[CV 5/5] END ..............................C=0.1, gamma=0.01; total time=   0.0s\n",
      "[CV 1/5] END .............................C=0.1, gamma=0.001; total time=   0.0s\n",
      "[CV 2/5] END .............................C=0.1, gamma=0.001; total time=   0.0s\n",
      "[CV 3/5] END .............................C=0.1, gamma=0.001; total time=   0.0s\n",
      "[CV 4/5] END .............................C=0.1, gamma=0.001; total time=   0.0s\n",
      "[CV 5/5] END .............................C=0.1, gamma=0.001; total time=   0.0s\n",
      "[CV 1/5] END ...................................C=1, gamma=1; total time=   0.0s\n",
      "[CV 2/5] END ...................................C=1, gamma=1; total time=   0.0s\n",
      "[CV 3/5] END ...................................C=1, gamma=1; total time=   0.0s\n",
      "[CV 4/5] END ...................................C=1, gamma=1; total time=   0.0s\n",
      "[CV 5/5] END ...................................C=1, gamma=1; total time=   0.0s\n",
      "[CV 1/5] END .................................C=1, gamma=0.1; total time=   0.0s\n",
      "[CV 2/5] END .................................C=1, gamma=0.1; total time=   0.0s\n",
      "[CV 3/5] END .................................C=1, gamma=0.1; total time=   0.0s\n",
      "[CV 4/5] END .................................C=1, gamma=0.1; total time=   0.0s\n",
      "[CV 5/5] END .................................C=1, gamma=0.1; total time=   0.0s\n",
      "[CV 1/5] END ................................C=1, gamma=0.01; total time=   0.0s\n",
      "[CV 2/5] END ................................C=1, gamma=0.01; total time=   0.0s\n",
      "[CV 3/5] END ................................C=1, gamma=0.01; total time=   0.0s\n",
      "[CV 4/5] END ................................C=1, gamma=0.01; total time=   0.0s\n",
      "[CV 5/5] END ................................C=1, gamma=0.01; total time=   0.0s\n",
      "[CV 1/5] END ...............................C=1, gamma=0.001; total time=   0.0s\n",
      "[CV 2/5] END ...............................C=1, gamma=0.001; total time=   0.0s\n",
      "[CV 3/5] END ...............................C=1, gamma=0.001; total time=   0.0s\n",
      "[CV 4/5] END ...............................C=1, gamma=0.001; total time=   0.0s\n",
      "[CV 5/5] END ...............................C=1, gamma=0.001; total time=   0.0s\n",
      "[CV 1/5] END ..................................C=10, gamma=1; total time=   0.0s\n",
      "[CV 2/5] END ..................................C=10, gamma=1; total time=   0.0s\n",
      "[CV 3/5] END ..................................C=10, gamma=1; total time=   0.0s\n",
      "[CV 4/5] END ..................................C=10, gamma=1; total time=   0.0s\n",
      "[CV 5/5] END ..................................C=10, gamma=1; total time=   0.0s\n",
      "[CV 1/5] END ................................C=10, gamma=0.1; total time=   0.0s\n",
      "[CV 2/5] END ................................C=10, gamma=0.1; total time=   0.0s\n",
      "[CV 3/5] END ................................C=10, gamma=0.1; total time=   0.0s\n",
      "[CV 4/5] END ................................C=10, gamma=0.1; total time=   0.0s\n",
      "[CV 5/5] END ................................C=10, gamma=0.1; total time=   0.0s\n",
      "[CV 1/5] END ...............................C=10, gamma=0.01; total time=   0.0s\n",
      "[CV 2/5] END ...............................C=10, gamma=0.01; total time=   0.0s\n",
      "[CV 3/5] END ...............................C=10, gamma=0.01; total time=   0.0s\n",
      "[CV 4/5] END ...............................C=10, gamma=0.01; total time=   0.0s\n",
      "[CV 5/5] END ...............................C=10, gamma=0.01; total time=   0.0s\n",
      "[CV 1/5] END ..............................C=10, gamma=0.001; total time=   0.0s\n",
      "[CV 2/5] END ..............................C=10, gamma=0.001; total time=   0.0s\n",
      "[CV 3/5] END ..............................C=10, gamma=0.001; total time=   0.0s\n",
      "[CV 4/5] END ..............................C=10, gamma=0.001; total time=   0.0s\n",
      "[CV 5/5] END ..............................C=10, gamma=0.001; total time=   0.0s\n",
      "[CV 1/5] END .................................C=100, gamma=1; total time=   0.0s\n",
      "[CV 2/5] END .................................C=100, gamma=1; total time=   0.0s\n",
      "[CV 3/5] END .................................C=100, gamma=1; total time=   0.0s\n",
      "[CV 4/5] END .................................C=100, gamma=1; total time=   0.0s\n",
      "[CV 5/5] END .................................C=100, gamma=1; total time=   0.0s\n",
      "[CV 1/5] END ...............................C=100, gamma=0.1; total time=   0.0s\n",
      "[CV 2/5] END ...............................C=100, gamma=0.1; total time=   0.0s\n",
      "[CV 3/5] END ...............................C=100, gamma=0.1; total time=   0.0s\n",
      "[CV 4/5] END ...............................C=100, gamma=0.1; total time=   0.0s\n",
      "[CV 5/5] END ...............................C=100, gamma=0.1; total time=   0.0s\n",
      "[CV 1/5] END ..............................C=100, gamma=0.01; total time=   0.0s\n",
      "[CV 2/5] END ..............................C=100, gamma=0.01; total time=   0.0s\n",
      "[CV 3/5] END ..............................C=100, gamma=0.01; total time=   0.0s\n",
      "[CV 4/5] END ..............................C=100, gamma=0.01; total time=   0.0s\n",
      "[CV 5/5] END ..............................C=100, gamma=0.01; total time=   0.0s\n",
      "[CV 1/5] END .............................C=100, gamma=0.001; total time=   0.0s\n",
      "[CV 2/5] END .............................C=100, gamma=0.001; total time=   0.0s\n",
      "[CV 3/5] END .............................C=100, gamma=0.001; total time=   0.0s\n",
      "[CV 4/5] END .............................C=100, gamma=0.001; total time=   0.0s\n",
      "[CV 5/5] END .............................C=100, gamma=0.001; total time=   0.0s\n"
     ]
    },
    {
     "data": {
      "text/plain": [
       "GridSearchCV(estimator=SVR(),\n",
       "             param_grid={'C': [0.1, 1, 10, 100],\n",
       "                         'gamma': [1, 0.1, 0.01, 0.001]},\n",
       "             verbose=3)"
      ]
     },
     "execution_count": 17,
     "metadata": {},
     "output_type": "execute_result"
    }
   ],
   "source": [
    "grid = GridSearchCV(SVR(kernel='rbf'), param_grid, refit = True, verbose=3)\n",
    "grid.fit(X_train, y_train)"
   ]
  },
  {
   "cell_type": "code",
   "execution_count": 18,
   "metadata": {},
   "outputs": [
    {
     "name": "stdout",
     "output_type": "stream",
     "text": [
      "Accuracy Linear Kernel on training set: 80.3622283801101\n",
      "Accuracy Linear Kernel on testing set: 75.41807502829663\n"
     ]
    }
   ],
   "source": [
    "svr_rbf = SVR(kernel='rbf', C=100, gamma=0.001, epsilon=.1).fit(X_train, y_train)\n",
    "accuracy_svr_rbf_train = svr_rbf.score(X_train, y_train)\n",
    "accuracy_svr_rbf_test = svr_rbf.score(X_test, y_test)\n",
    "print('Accuracy Linear Kernel on training set:', accuracy_svr_rbf_train*100)\n",
    "print('Accuracy Linear Kernel on testing set:', accuracy_svr_rbf_test*100)"
   ]
  },
  {
   "cell_type": "code",
   "execution_count": 19,
   "metadata": {},
   "outputs": [
    {
     "name": "stdout",
     "output_type": "stream",
     "text": [
      "                      Algorithms  Train Score  Test Score\n",
      "0              Linear Regression    82.944361   80.082878\n",
      "1                            SVR    64.941162   71.661007\n",
      "2                   SVR with rbf    74.390996   60.146620\n",
      "3  SVR with rbf using GRIDSearch    80.362228   75.418075\n"
     ]
    }
   ],
   "source": [
    "dfnew = dfnew.append({'Algorithms' : 'SVR with rbf using GRIDSearch' , 'Train Score' : accuracy_svr_rbf_train*100,\n",
    "                      'Test Score' : accuracy_svr_rbf_test*100} , ignore_index=True)\n",
    "print(dfnew)"
   ]
  },
  {
   "cell_type": "markdown",
   "metadata": {},
   "source": [
    "# Lets Convert this dataset into a Classification Problem"
   ]
  },
  {
   "cell_type": "code",
   "execution_count": 20,
   "metadata": {},
   "outputs": [],
   "source": [
    "import matplotlib.pyplot as plt"
   ]
  },
  {
   "cell_type": "markdown",
   "metadata": {},
   "source": [
    "# Defining Custom Bins as per requirment"
   ]
  },
  {
   "cell_type": "code",
   "execution_count": 21,
   "metadata": {},
   "outputs": [],
   "source": [
    "bins_list = [0.3, 0.6, 0.8, 1]"
   ]
  },
  {
   "cell_type": "code",
   "execution_count": 22,
   "metadata": {},
   "outputs": [
    {
     "data": {
      "image/png": "[encoded data removed]",
      "text/plain": [
       "<Figure size 432x288 with 1 Axes>"
      ]
     },
     "metadata": {
      "needs_background": "light"
     },
     "output_type": "display_data"
    }
   ],
   "source": [
    "ax = plt.hist(df['Chance of Admit '], bins = bins_list)"
   ]
  },
  {
   "cell_type": "markdown",
   "metadata": {},
   "source": [
    "# Creating a New Column for Classification"
   ]
  },
  {
   "cell_type": "code",
   "execution_count": 23,
   "metadata": {},
   "outputs": [],
   "source": [
    "df.loc[(df['Chance of Admit '] >= 0.3) & (df['Chance of Admit '] <= 0.6), 'COA_classified'] = 'Low'\n",
    "df.loc[(df['Chance of Admit '] >= 0.6) & (df['Chance of Admit '] <= 0.8), 'COA_classified'] = 'Medium'\n",
    "df.loc[(df['Chance of Admit '] >= 0.8) & (df['Chance of Admit '] <= 1), 'COA_classified'] = 'High'"
   ]
  },
  {
   "cell_type": "code",
   "execution_count": 24,
   "metadata": {},
   "outputs": [
    {
     "name": "stdout",
     "output_type": "stream",
     "text": [
      "     GRE Score  TOEFL Score  University Rating  SOP  LOR   CGPA  Research  \\\n",
      "0          337          118                  4  4.5   4.5  9.65         1   \n",
      "1          324          107                  4  4.0   4.5  8.87         1   \n",
      "2          316          104                  3  3.0   3.5  8.00         1   \n",
      "3          322          110                  3  3.5   2.5  8.67         1   \n",
      "4          314          103                  2  2.0   3.0  8.21         0   \n",
      "..         ...          ...                ...  ...   ...   ...       ...   \n",
      "495        332          108                  5  4.5   4.0  9.02         1   \n",
      "496        337          117                  5  5.0   5.0  9.87         1   \n",
      "497        330          120                  5  4.5   5.0  9.56         1   \n",
      "498        312          103                  4  4.0   5.0  8.43         0   \n",
      "499        327          113                  4  4.5   4.5  9.04         0   \n",
      "\n",
      "     Chance of Admit  COA_classified  \n",
      "0                0.92           High  \n",
      "1                0.76         Medium  \n",
      "2                0.72         Medium  \n",
      "3                0.80           High  \n",
      "4                0.65         Medium  \n",
      "..                ...            ...  \n",
      "495              0.87           High  \n",
      "496              0.96           High  \n",
      "497              0.93           High  \n",
      "498              0.73         Medium  \n",
      "499              0.84           High  \n",
      "\n",
      "[500 rows x 9 columns]\n"
     ]
    }
   ],
   "source": [
    "print(df)"
   ]
  },
  {
   "cell_type": "markdown",
   "metadata": {},
   "source": [
    "# Performing Checks for new column"
   ]
  },
  {
   "cell_type": "code",
   "execution_count": 25,
   "metadata": {},
   "outputs": [
    {
     "name": "stdout",
     "output_type": "stream",
     "text": [
      "Columns With Zero\n",
      "GRE Score              0\n",
      "TOEFL Score            0\n",
      "University Rating      0\n",
      "SOP                    0\n",
      "LOR                    0\n",
      "CGPA                   0\n",
      "Research             220\n",
      "Chance of Admit        0\n",
      "COA_classified         0\n",
      "dtype: int64\n",
      "Columns With Nulls\n"
     ]
    },
    {
     "data": {
      "text/plain": [
       "GRE Score            0\n",
       "TOEFL Score          0\n",
       "University Rating    0\n",
       "SOP                  0\n",
       "LOR                  0\n",
       "CGPA                 0\n",
       "Research             0\n",
       "Chance of Admit      0\n",
       "COA_classified       0\n",
       "dtype: int64"
      ]
     },
     "execution_count": 25,
     "metadata": {},
     "output_type": "execute_result"
    }
   ],
   "source": [
    "# check zeros\n",
    "print('Columns With Zero')\n",
    "print((df==0).sum())\n",
    "\n",
    "# check nulls\n",
    "print('Columns With Nulls')\n",
    "df.isnull().sum()"
   ]
  },
  {
   "cell_type": "markdown",
   "metadata": {},
   "source": [
    "# Applying Decision Tree Classifier"
   ]
  },
  {
   "cell_type": "code",
   "execution_count": 26,
   "metadata": {},
   "outputs": [
    {
     "name": "stdout",
     "output_type": "stream",
     "text": [
      "Accuracy on training set: 100.00\n",
      "Accuracy on test set: 76.80\n"
     ]
    }
   ],
   "source": [
    "from sklearn.tree import DecisionTreeClassifier\n",
    "X = df[['GRE Score', 'TOEFL Score', 'University Rating', 'SOP', 'LOR ', 'CGPA', 'Research']]\n",
    "y = df['COA_classified']\n",
    "X_train, X_test, y_train, y_test = train_test_split(X, y, test_size = 0.25, random_state=280)\n",
    "dtree = DecisionTreeClassifier(random_state=150)\n",
    "dtree.fit(X_train, y_train)\n",
    "print(\"Accuracy on training set: {:.2f}\".format(dtree.score(X_train, y_train)*100))\n",
    "print(\"Accuracy on test set: {:.2f}\".format(dtree.score(X_test, y_test)*100))"
   ]
  },
  {
   "cell_type": "markdown",
   "metadata": {},
   "source": [
    "# Overfitting is obeserved. Lets try entropy for better splitting and provide max depth as per requirement"
   ]
  },
  {
   "cell_type": "code",
   "execution_count": 30,
   "metadata": {},
   "outputs": [],
   "source": [
    "from sklearn.ensemble import RandomForestClassifier"
   ]
  },
  {
   "cell_type": "code",
   "execution_count": 31,
   "metadata": {},
   "outputs": [
    {
     "name": "stdout",
     "output_type": "stream",
     "text": [
      "Accuracy on training set: 86.13\n",
      "Accuracy on test set: 83.20\n",
      "Accuracy on training set: 1.000\n",
      "Accuracy on test set: 0.808\n"
     ]
    }
   ],
   "source": [
    "tree = DecisionTreeClassifier(criterion=\"entropy\",max_depth=5, random_state=0)\n",
    "tree.fit(X_train, y_train)\n",
    "print(\"Accuracy on training set: {:.2f}\".format(tree.score(X_train, y_train)*100))\n",
    "print(\"Accuracy on test set: {:.2f}\".format(tree.score(X_test, y_test)*100))\n",
    "forest = RandomForestClassifier(n_estimators=100, random_state=0)\n",
    "forest.fit(X_train, y_train)\n",
    "print(\"Accuracy on training set: {:.3f}\".format(forest.score(X_train, y_train)))\n",
    "print(\"Accuracy on test set: {:.3f}\".format(forest.score(X_test, y_test)))"
   ]
  },
  {
   "cell_type": "code",
   "execution_count": 32,
   "metadata": {},
   "outputs": [
    {
     "name": "stdout",
     "output_type": "stream",
     "text": [
      "                      Algorithms  Train Score  Test Score\n",
      "0              Linear Regression    82.944361   80.082878\n",
      "1                            SVR    64.941162   71.661007\n",
      "2                   SVR with rbf    74.390996   60.146620\n",
      "3  SVR with rbf using GRIDSearch    80.362228   75.418075\n",
      "4         DecisionTreeClassifier    86.133333   83.200000\n"
     ]
    }
   ],
   "source": [
    "dfnew = dfnew.append({'Algorithms' : 'DecisionTreeClassifier' , 'Train Score' : tree.score(X_train, y_train)*100,\n",
    "                      'Test Score' : tree.score(X_test, y_test)*100} , ignore_index=True)\n",
    "print(dfnew)"
   ]
  },
  {
   "cell_type": "markdown",
   "metadata": {},
   "source": [
    "# Applying RandomForestClassifier"
   ]
  },
  {
   "cell_type": "code",
   "execution_count": 33,
   "metadata": {},
   "outputs": [
    {
     "name": "stdout",
     "output_type": "stream",
     "text": [
      "Accuracy on training set: 0.891\n",
      "Accuracy on test set: 0.840\n"
     ]
    }
   ],
   "source": [
    "from sklearn.ensemble import RandomForestClassifier\n",
    "X = df[['GRE Score', 'TOEFL Score', 'University Rating', 'SOP', 'LOR ', 'CGPA', 'Research']]\n",
    "y = df['COA_classified']\n",
    "X_train, X_test, y_train, y_test = train_test_split(X, y, test_size = 0.25, random_state=280)\n",
    "\n",
    "forest = RandomForestClassifier(n_estimators=25, random_state=150,criterion=\"entropy\",max_depth=5)\n",
    "forest.fit(X_train, y_train)\n",
    "print(\"Accuracy on training set: {:.3f}\".format(forest.score(X_train, y_train)))\n",
    "print(\"Accuracy on test set: {:.3f}\".format(forest.score(X_test, y_test)))\n"
   ]
  },
  {
   "cell_type": "code",
   "execution_count": 34,
   "metadata": {},
   "outputs": [
    {
     "name": "stdout",
     "output_type": "stream",
     "text": [
      "                      Algorithms  Train Score  Test Score\n",
      "0              Linear Regression    82.944361   80.082878\n",
      "1                            SVR    64.941162   71.661007\n",
      "2                   SVR with rbf    74.390996   60.146620\n",
      "3  SVR with rbf using GRIDSearch    80.362228   75.418075\n",
      "4         DecisionTreeClassifier    86.133333   83.200000\n",
      "5         RandomForestClassifier    89.066667   84.000000\n"
     ]
    }
   ],
   "source": [
    "dfnew = dfnew.append({'Algorithms' : 'RandomForestClassifier' , 'Train Score' : forest.score(X_train, y_train)*100,\n",
    "                      'Test Score' : forest.score(X_test, y_test)*100} , ignore_index=True)\n",
    "print(dfnew)"
   ]
  },
  {
   "cell_type": "markdown",
   "metadata": {},
   "source": [
    "# Applying GradientBoostingClassifier"
   ]
  },
  {
   "cell_type": "code",
   "execution_count": 35,
   "metadata": {},
   "outputs": [
    {
     "name": "stdout",
     "output_type": "stream",
     "text": [
      "Accuracy on training set: 0.853\n",
      "Accuracy on test set: 0.832\n"
     ]
    }
   ],
   "source": [
    "from sklearn.ensemble import GradientBoostingClassifier\n",
    "X = df[['GRE Score', 'TOEFL Score', 'University Rating', 'SOP', 'LOR ', 'CGPA', 'Research']]\n",
    "y = df['COA_classified']\n",
    "X_train, X_test, y_train, y_test = train_test_split(X, y, test_size = 0.25, random_state=280)\n",
    "\n",
    "gbrt = GradientBoostingClassifier(n_estimators=20, random_state=0, learning_rate=0.1, max_depth=2)\n",
    "gbrt.fit(X_train, y_train)\n",
    "print(\"Accuracy on training set: {:.3f}\".format(gbrt.score(X_train, y_train)))\n",
    "print(\"Accuracy on test set: {:.3f}\".format(gbrt.score(X_test, y_test)))"
   ]
  },
  {
   "cell_type": "code",
   "execution_count": 36,
   "metadata": {},
   "outputs": [
    {
     "name": "stdout",
     "output_type": "stream",
     "text": [
      "                      Algorithms  Train Score  Test Score\n",
      "0              Linear Regression    82.944361   80.082878\n",
      "1                            SVR    64.941162   71.661007\n",
      "2                   SVR with rbf    74.390996   60.146620\n",
      "3  SVR with rbf using GRIDSearch    80.362228   75.418075\n",
      "4         DecisionTreeClassifier    86.133333   83.200000\n",
      "5         RandomForestClassifier    89.066667   84.000000\n",
      "6     GradientBoostingClassifier    85.333333   83.200000\n"
     ]
    }
   ],
   "source": [
    "dfnew = dfnew.append({'Algorithms' : 'GradientBoostingClassifier' , 'Train Score' : gbrt.score(X_train, y_train)*100,\n",
    "                      'Test Score' : gbrt.score(X_test, y_test)*100} , ignore_index=True)\n",
    "print(dfnew)"
   ]
  },
  {
   "cell_type": "markdown",
   "metadata": {},
   "source": [
    "# Applying Naive Bayes"
   ]
  },
  {
   "cell_type": "code",
   "execution_count": 37,
   "metadata": {},
   "outputs": [
    {
     "name": "stdout",
     "output_type": "stream",
     "text": [
      "Accuracy on training set: 0.821\n",
      "Accuracy on test set: 0.776\n"
     ]
    }
   ],
   "source": [
    "from sklearn.naive_bayes import GaussianNB\n",
    "X = df[['GRE Score', 'TOEFL Score', 'University Rating', 'SOP', 'LOR ', 'CGPA', 'Research']]\n",
    "y = df['COA_classified']\n",
    "X_train, X_test, y_train, y_test = train_test_split(X, y, test_size = 0.25, random_state=150)\n",
    "\n",
    "gnb = GaussianNB()\n",
    "gnb.fit(X_train, y_train)\n",
    "print(\"Accuracy on training set: {:.3f}\".format(gnb.score(X_train, y_train)))\n",
    "print(\"Accuracy on test set: {:.3f}\".format(gnb.score(X_test, y_test)))"
   ]
  },
  {
   "cell_type": "code",
   "execution_count": 38,
   "metadata": {},
   "outputs": [
    {
     "name": "stdout",
     "output_type": "stream",
     "text": [
      "                      Algorithms  Train Score  Test Score\n",
      "0              Linear Regression    82.944361   80.082878\n",
      "1                            SVR    64.941162   71.661007\n",
      "2                   SVR with rbf    74.390996   60.146620\n",
      "3  SVR with rbf using GRIDSearch    80.362228   75.418075\n",
      "4         DecisionTreeClassifier    86.133333   83.200000\n",
      "5         RandomForestClassifier    89.066667   84.000000\n",
      "6     GradientBoostingClassifier    85.333333   83.200000\n",
      "7                     GaussianNB    82.133333   77.600000\n"
     ]
    }
   ],
   "source": [
    "dfnew = dfnew.append({'Algorithms' : 'GaussianNB' , 'Train Score' : gnb.score(X_train, y_train)*100,\n",
    "                      'Test Score' : gnb.score(X_test, y_test)*100} , ignore_index=True)\n",
    "print(dfnew)"
   ]
  },
  {
   "cell_type": "markdown",
   "metadata": {},
   "source": [
    "# Applying KNN Classifier by first plotting the optimal number of neighbors required"
   ]
  },
  {
   "cell_type": "code",
   "execution_count": 39,
   "metadata": {},
   "outputs": [
    {
     "data": {
      "image/png": "[encoded data removed]",
      "text/plain": [
       "<Figure size 432x288 with 1 Axes>"
      ]
     },
     "metadata": {
      "needs_background": "light"
     },
     "output_type": "display_data"
    }
   ],
   "source": [
    "from sklearn.neighbors import KNeighborsClassifier  \n",
    "X = df[['GRE Score', 'TOEFL Score', 'University Rating', 'SOP', 'LOR ', 'CGPA', 'Research']]\n",
    "y = df['COA_classified']\n",
    "X_train, X_test, y_train, y_test = train_test_split(X, y, test_size = 0.25, random_state=280)\n",
    "  \n",
    "neighbors = np.arange(1, 9) \n",
    "train_accuracy = np.empty(len(neighbors)) \n",
    "test_accuracy = np.empty(len(neighbors)) \n",
    "  \n",
    "# Loop over K values \n",
    "for i, k in enumerate(neighbors): \n",
    "    knn = KNeighborsClassifier(n_neighbors=k) \n",
    "    knn.fit(X_train, y_train) \n",
    "      \n",
    "    # Compute traning and test data accuracy \n",
    "    train_accuracy[i] = knn.score(X_train, y_train) \n",
    "    test_accuracy[i] = knn.score(X_test, y_test) \n",
    "  \n",
    "# Generate plot \n",
    "plt.plot(neighbors, test_accuracy, label = 'Testing dataset Accuracy') \n",
    "plt.plot(neighbors, train_accuracy, label = 'Training dataset Accuracy') \n",
    "  \n",
    "plt.legend() \n",
    "plt.xlabel('n_neighbors') \n",
    "plt.ylabel('Accuracy') \n",
    "plt.show()"
   ]
  },
  {
   "cell_type": "code",
   "execution_count": 40,
   "metadata": {},
   "outputs": [
    {
     "name": "stdout",
     "output_type": "stream",
     "text": [
      "Accuracy on training set: 0.800\n",
      "Accuracy on test set: 0.768\n"
     ]
    }
   ],
   "source": [
    "from sklearn.neighbors import KNeighborsClassifier  \n",
    "X = df[['GRE Score', 'TOEFL Score', 'University Rating', 'SOP', 'LOR ', 'CGPA', 'Research']]\n",
    "y = df['COA_classified']\n",
    "X_train, X_test, y_train, y_test = train_test_split(X, y, test_size = 0.25, random_state=280)\n",
    "\n",
    "knn = KNeighborsClassifier(n_neighbors=6) \n",
    "knn.fit(X_train, y_train) \n",
    "\n",
    "print(\"Accuracy on training set: {:.3f}\".format(knn.score(X_train, y_train)))\n",
    "print(\"Accuracy on test set: {:.3f}\".format(knn.score(X_test, y_test)))"
   ]
  },
  {
   "cell_type": "code",
   "execution_count": 41,
   "metadata": {},
   "outputs": [
    {
     "name": "stdout",
     "output_type": "stream",
     "text": [
      "                      Algorithms  Train Score  Test Score\n",
      "0              Linear Regression    82.944361   80.082878\n",
      "1                            SVR    64.941162   71.661007\n",
      "2                   SVR with rbf    74.390996   60.146620\n",
      "3  SVR with rbf using GRIDSearch    80.362228   75.418075\n",
      "4         DecisionTreeClassifier    86.133333   83.200000\n",
      "5         RandomForestClassifier    89.066667   84.000000\n",
      "6     GradientBoostingClassifier    85.333333   83.200000\n",
      "7                     GaussianNB    82.133333   77.600000\n",
      "8                  KNNClassifier    80.000000   76.800000\n"
     ]
    }
   ],
   "source": [
    "dfnew = dfnew.append({'Algorithms' : 'KNNClassifier' , 'Train Score' : knn.score(X_train, y_train)*100,\n",
    "                      'Test Score' : knn.score(X_test, y_test)*100} , ignore_index=True)\n",
    "print(dfnew)"
   ]
  },
  {
   "cell_type": "markdown",
   "metadata": {},
   "source": [
    "# Note : Logistic Regression cannot be applied on this dataset as it has 3 classes\n"
   ]
  },
  {
   "cell_type": "markdown",
   "metadata": {},
   "source": [
    "# Applying Support Vector Machine"
   ]
  },
  {
   "cell_type": "code",
   "execution_count": 42,
   "metadata": {},
   "outputs": [],
   "source": [
    "from sklearn import svm\n",
    "X = df[['GRE Score', 'TOEFL Score', 'University Rating', 'SOP', 'LOR ', 'CGPA', 'Research']]\n",
    "y = df['COA_classified']\n",
    "X_train, X_test, y_train, y_test = train_test_split(X, y, test_size = 0.25, random_state=280)"
   ]
  },
  {
   "cell_type": "code",
   "execution_count": 43,
   "metadata": {},
   "outputs": [
    {
     "name": "stdout",
     "output_type": "stream",
     "text": [
      "Accuracy of SVC on training set: 49.87\n",
      "Accuracy of SVC on test set: 53.60\n"
     ]
    }
   ],
   "source": [
    "clf = svm.SVC()\n",
    "clf.fit(X_train,y_train)\n",
    "\n",
    "print('Accuracy of SVC on training set: {:.2f}'.format(clf.score(X_train, y_train) * 100))\n",
    "\n",
    "print('Accuracy of SVC on test set: {:.2f}'.format(clf.score(X_test, y_test) * 100))"
   ]
  },
  {
   "cell_type": "code",
   "execution_count": 44,
   "metadata": {},
   "outputs": [
    {
     "name": "stdout",
     "output_type": "stream",
     "text": [
      "                      Algorithms  Train Score  Test Score\n",
      "0              Linear Regression    82.944361   80.082878\n",
      "1                            SVR    64.941162   71.661007\n",
      "2                   SVR with rbf    74.390996   60.146620\n",
      "3  SVR with rbf using GRIDSearch    80.362228   75.418075\n",
      "4         DecisionTreeClassifier    86.133333   83.200000\n",
      "5         RandomForestClassifier    89.066667   84.000000\n",
      "6     GradientBoostingClassifier    85.333333   83.200000\n",
      "7                     GaussianNB    82.133333   77.600000\n",
      "8                  KNNClassifier    80.000000   76.800000\n",
      "9                            SVM    49.866667   53.600000\n"
     ]
    }
   ],
   "source": [
    "dfnew = dfnew.append({'Algorithms' : 'SVM' , 'Train Score' : clf.score(X_train, y_train)*100,\n",
    "                      'Test Score' : clf.score(X_test, y_test)*100} , ignore_index=True)\n",
    "print(dfnew)"
   ]
  },
  {
   "cell_type": "markdown",
   "metadata": {},
   "source": [
    "# Applying SVM using Linear kernel"
   ]
  },
  {
   "cell_type": "code",
   "execution_count": 45,
   "metadata": {},
   "outputs": [
    {
     "name": "stdout",
     "output_type": "stream",
     "text": [
      "Accuracy Linear Kernel on training set: 83.42857142857143\n",
      "Accuracy Linear Kernel on testing set: 82.66666666666667\n"
     ]
    }
   ],
   "source": [
    "from sklearn import svm\n",
    "X = df[['GRE Score', 'TOEFL Score', 'University Rating', 'SOP', 'LOR ', 'CGPA', 'Research']]\n",
    "y = df['COA_classified']\n",
    "X_train, X_test, y_train, y_test = train_test_split(X, y, test_size = 0.3, random_state=190)\n",
    "\n",
    "linear = svm.SVC(kernel='linear', C=1, decision_function_shape='ovo').fit(X_train, y_train)\n",
    "accuracy_lin_train = linear.score(X_train, y_train)\n",
    "accuracy_lin_test = linear.score(X_test, y_test)\n",
    "print('Accuracy Linear Kernel on training set:', accuracy_lin_train*100)\n",
    "print('Accuracy Linear Kernel on testing set:', accuracy_lin_test*100)"
   ]
  },
  {
   "cell_type": "code",
   "execution_count": 46,
   "metadata": {},
   "outputs": [
    {
     "name": "stdout",
     "output_type": "stream",
     "text": [
      "                       Algorithms  Train Score  Test Score\n",
      "0               Linear Regression    82.944361   80.082878\n",
      "1                             SVR    64.941162   71.661007\n",
      "2                    SVR with rbf    74.390996   60.146620\n",
      "3   SVR with rbf using GRIDSearch    80.362228   75.418075\n",
      "4          DecisionTreeClassifier    86.133333   83.200000\n",
      "5          RandomForestClassifier    89.066667   84.000000\n",
      "6      GradientBoostingClassifier    85.333333   83.200000\n",
      "7                      GaussianNB    82.133333   77.600000\n",
      "8                   KNNClassifier    80.000000   76.800000\n",
      "9                             SVM    49.866667   53.600000\n",
      "10                SVM with linear    83.428571   82.666667\n"
     ]
    }
   ],
   "source": [
    "dfnew = dfnew.append({'Algorithms' : 'SVM with linear' , 'Train Score' : accuracy_lin_train*100,\n",
    "                      'Test Score' : accuracy_lin_test*100} , ignore_index=True)\n",
    "print(dfnew)"
   ]
  },
  {
   "cell_type": "markdown",
   "metadata": {},
   "source": [
    "# Applyin SVM using rbf kernel"
   ]
  },
  {
   "cell_type": "code",
   "execution_count": 47,
   "metadata": {},
   "outputs": [
    {
     "name": "stdout",
     "output_type": "stream",
     "text": [
      "Accuracy Radial Basis Kernel on training set: 64.28571428571429\n",
      "Accuracy Radial Basis Kernel on testing set: 69.33333333333334\n"
     ]
    }
   ],
   "source": [
    "rbf = svm.SVC(kernel='rbf', gamma=0.1, C=0.1, decision_function_shape='ovo').fit(X_train, y_train)\n",
    "accuracy_rbf_train = rbf.score(X_train, y_train)\n",
    "accuracy_rbf_test = rbf.score(X_test, y_test)\n",
    "print('Accuracy Radial Basis Kernel on training set:', accuracy_rbf_train*100)\n",
    "print('Accuracy Radial Basis Kernel on testing set:', accuracy_rbf_test*100)"
   ]
  },
  {
   "cell_type": "markdown",
   "metadata": {},
   "source": [
    "# Here, the rbf kernel is perfroming poorly because the data we are using is linearly separable and hence will perform best on linear kernel."
   ]
  },
  {
   "cell_type": "markdown",
   "metadata": {},
   "source": [
    "# Performing Grid Search on SVM"
   ]
  },
  {
   "cell_type": "code",
   "execution_count": 48,
   "metadata": {},
   "outputs": [
    {
     "data": {
      "text/plain": [
       "SVC()"
      ]
     },
     "execution_count": 48,
     "metadata": {},
     "output_type": "execute_result"
    }
   ],
   "source": [
    "from sklearn.svm import SVC\n",
    "svm = SVC()\n",
    "svm.fit(X_train,y_train)"
   ]
  },
  {
   "cell_type": "code",
   "execution_count": 49,
   "metadata": {},
   "outputs": [],
   "source": [
    "from sklearn.model_selection import GridSearchCV\n",
    "X = df[['GRE Score', 'TOEFL Score', 'University Rating', 'SOP', 'LOR ', 'CGPA', 'Research']]\n",
    "y = df['COA_classified']\n",
    "X_train, X_test, y_train, y_test = train_test_split(X, y, test_size = 0.25, random_state=280)\n",
    "param_grid = {'C':[0.1,1,10,100], 'gamma':[1,0.1,0.01,0.001]}"
   ]
  },
  {
   "cell_type": "code",
   "execution_count": 50,
   "metadata": {},
   "outputs": [
    {
     "name": "stdout",
     "output_type": "stream",
     "text": [
      "Fitting 5 folds for each of 16 candidates, totalling 80 fits\n",
      "[CV 1/5] END .................................C=0.1, gamma=1; total time=   0.0s\n",
      "[CV 2/5] END .................................C=0.1, gamma=1; total time=   0.0s\n",
      "[CV 3/5] END .................................C=0.1, gamma=1; total time=   0.0s\n",
      "[CV 4/5] END .................................C=0.1, gamma=1; total time=   0.0s\n",
      "[CV 5/5] END .................................C=0.1, gamma=1; total time=   0.0s\n",
      "[CV 1/5] END ...............................C=0.1, gamma=0.1; total time=   0.0s\n",
      "[CV 2/5] END ...............................C=0.1, gamma=0.1; total time=   0.0s\n",
      "[CV 3/5] END ...............................C=0.1, gamma=0.1; total time=   0.0s\n",
      "[CV 4/5] END ...............................C=0.1, gamma=0.1; total time=   0.0s\n",
      "[CV 5/5] END ...............................C=0.1, gamma=0.1; total time=   0.0s\n",
      "[CV 1/5] END ..............................C=0.1, gamma=0.01; total time=   0.0s\n",
      "[CV 2/5] END ..............................C=0.1, gamma=0.01; total time=   0.0s\n",
      "[CV 3/5] END ..............................C=0.1, gamma=0.01; total time=   0.0s\n",
      "[CV 4/5] END ..............................C=0.1, gamma=0.01; total time=   0.0s\n",
      "[CV 5/5] END ..............................C=0.1, gamma=0.01; total time=   0.0s\n",
      "[CV 1/5] END .............................C=0.1, gamma=0.001; total time=   0.0s\n",
      "[CV 2/5] END .............................C=0.1, gamma=0.001; total time=   0.0s\n",
      "[CV 3/5] END .............................C=0.1, gamma=0.001; total time=   0.0s\n",
      "[CV 4/5] END .............................C=0.1, gamma=0.001; total time=   0.0s\n",
      "[CV 5/5] END .............................C=0.1, gamma=0.001; total time=   0.0s\n",
      "[CV 1/5] END ...................................C=1, gamma=1; total time=   0.0s\n",
      "[CV 2/5] END ...................................C=1, gamma=1; total time=   0.0s\n",
      "[CV 3/5] END ...................................C=1, gamma=1; total time=   0.0s\n",
      "[CV 4/5] END ...................................C=1, gamma=1; total time=   0.0s\n",
      "[CV 5/5] END ...................................C=1, gamma=1; total time=   0.0s\n",
      "[CV 1/5] END .................................C=1, gamma=0.1; total time=   0.0s\n",
      "[CV 2/5] END .................................C=1, gamma=0.1; total time=   0.0s\n",
      "[CV 3/5] END .................................C=1, gamma=0.1; total time=   0.0s\n",
      "[CV 4/5] END .................................C=1, gamma=0.1; total time=   0.0s\n",
      "[CV 5/5] END .................................C=1, gamma=0.1; total time=   0.0s\n",
      "[CV 1/5] END ................................C=1, gamma=0.01; total time=   0.0s\n",
      "[CV 2/5] END ................................C=1, gamma=0.01; total time=   0.0s\n",
      "[CV 3/5] END ................................C=1, gamma=0.01; total time=   0.0s\n",
      "[CV 4/5] END ................................C=1, gamma=0.01; total time=   0.0s\n",
      "[CV 5/5] END ................................C=1, gamma=0.01; total time=   0.0s\n",
      "[CV 1/5] END ...............................C=1, gamma=0.001; total time=   0.0s\n",
      "[CV 2/5] END ...............................C=1, gamma=0.001; total time=   0.0s\n",
      "[CV 3/5] END ...............................C=1, gamma=0.001; total time=   0.0s\n",
      "[CV 4/5] END ...............................C=1, gamma=0.001; total time=   0.0s\n",
      "[CV 5/5] END ...............................C=1, gamma=0.001; total time=   0.0s\n",
      "[CV 1/5] END ..................................C=10, gamma=1; total time=   0.0s\n",
      "[CV 2/5] END ..................................C=10, gamma=1; total time=   0.0s\n",
      "[CV 3/5] END ..................................C=10, gamma=1; total time=   0.0s\n",
      "[CV 4/5] END ..................................C=10, gamma=1; total time=   0.0s\n",
      "[CV 5/5] END ..................................C=10, gamma=1; total time=   0.0s\n",
      "[CV 1/5] END ................................C=10, gamma=0.1; total time=   0.0s\n",
      "[CV 2/5] END ................................C=10, gamma=0.1; total time=   0.0s\n",
      "[CV 3/5] END ................................C=10, gamma=0.1; total time=   0.0s\n",
      "[CV 4/5] END ................................C=10, gamma=0.1; total time=   0.0s\n",
      "[CV 5/5] END ................................C=10, gamma=0.1; total time=   0.0s\n",
      "[CV 1/5] END ...............................C=10, gamma=0.01; total time=   0.0s\n",
      "[CV 2/5] END ...............................C=10, gamma=0.01; total time=   0.0s\n",
      "[CV 3/5] END ...............................C=10, gamma=0.01; total time=   0.0s\n",
      "[CV 4/5] END ...............................C=10, gamma=0.01; total time=   0.0s\n",
      "[CV 5/5] END ...............................C=10, gamma=0.01; total time=   0.0s\n",
      "[CV 1/5] END ..............................C=10, gamma=0.001; total time=   0.0s\n",
      "[CV 2/5] END ..............................C=10, gamma=0.001; total time=   0.0s\n",
      "[CV 3/5] END ..............................C=10, gamma=0.001; total time=   0.0s\n",
      "[CV 4/5] END ..............................C=10, gamma=0.001; total time=   0.0s\n",
      "[CV 5/5] END ..............................C=10, gamma=0.001; total time=   0.0s\n",
      "[CV 1/5] END .................................C=100, gamma=1; total time=   0.0s\n",
      "[CV 2/5] END .................................C=100, gamma=1; total time=   0.0s\n",
      "[CV 3/5] END .................................C=100, gamma=1; total time=   0.0s\n",
      "[CV 4/5] END .................................C=100, gamma=1; total time=   0.0s\n",
      "[CV 5/5] END .................................C=100, gamma=1; total time=   0.0s\n",
      "[CV 1/5] END ...............................C=100, gamma=0.1; total time=   0.0s\n",
      "[CV 2/5] END ...............................C=100, gamma=0.1; total time=   0.0s\n",
      "[CV 3/5] END ...............................C=100, gamma=0.1; total time=   0.0s\n",
      "[CV 4/5] END ...............................C=100, gamma=0.1; total time=   0.0s\n",
      "[CV 5/5] END ...............................C=100, gamma=0.1; total time=   0.0s\n",
      "[CV 1/5] END ..............................C=100, gamma=0.01; total time=   0.0s\n",
      "[CV 2/5] END ..............................C=100, gamma=0.01; total time=   0.0s\n",
      "[CV 3/5] END ..............................C=100, gamma=0.01; total time=   0.0s\n",
      "[CV 4/5] END ..............................C=100, gamma=0.01; total time=   0.0s\n",
      "[CV 5/5] END ..............................C=100, gamma=0.01; total time=   0.0s\n",
      "[CV 1/5] END .............................C=100, gamma=0.001; total time=   0.0s\n",
      "[CV 2/5] END .............................C=100, gamma=0.001; total time=   0.0s\n",
      "[CV 3/5] END .............................C=100, gamma=0.001; total time=   0.0s\n",
      "[CV 4/5] END .............................C=100, gamma=0.001; total time=   0.0s\n",
      "[CV 5/5] END .............................C=100, gamma=0.001; total time=   0.0s\n"
     ]
    },
    {
     "data": {
      "text/plain": [
       "GridSearchCV(estimator=SVC(),\n",
       "             param_grid={'C': [0.1, 1, 10, 100],\n",
       "                         'gamma': [1, 0.1, 0.01, 0.001]},\n",
       "             verbose=3)"
      ]
     },
     "execution_count": 50,
     "metadata": {},
     "output_type": "execute_result"
    }
   ],
   "source": [
    "grid = GridSearchCV(SVC(), param_grid, refit = True, verbose=3)\n",
    "grid.fit(X_train, y_train)"
   ]
  },
  {
   "cell_type": "code",
   "execution_count": 51,
   "metadata": {},
   "outputs": [
    {
     "name": "stdout",
     "output_type": "stream",
     "text": [
      "Accuracy of SVC on training set: 83.20\n",
      "Accuracy of SVC on test set: 80.80\n"
     ]
    }
   ],
   "source": [
    "from sklearn import svm\n",
    "X = df[['GRE Score', 'TOEFL Score', 'University Rating', 'SOP', 'LOR ', 'CGPA', 'Research']]\n",
    "y = df['COA_classified']\n",
    "X_train, X_test, y_train, y_test = train_test_split(X, y, test_size = 0.25, random_state=280)\n",
    "\n",
    "clf = svm.SVC(C=100,gamma=0.001)\n",
    "clf.fit(X_train,y_train)\n",
    "\n",
    "print('Accuracy of SVC on training set: {:.2f}'.format(clf.score(X_train, y_train) * 100))\n",
    "\n",
    "print('Accuracy of SVC on test set: {:.2f}'.format(clf.score(X_test, y_test) * 100))"
   ]
  },
  {
   "cell_type": "code",
   "execution_count": 52,
   "metadata": {},
   "outputs": [
    {
     "name": "stdout",
     "output_type": "stream",
     "text": [
      "                       Algorithms  Train Score  Test Score\n",
      "0               Linear Regression    82.944361   80.082878\n",
      "1                             SVR    64.941162   71.661007\n",
      "2                    SVR with rbf    74.390996   60.146620\n",
      "3   SVR with rbf using GRIDSearch    80.362228   75.418075\n",
      "4          DecisionTreeClassifier    86.133333   83.200000\n",
      "5          RandomForestClassifier    89.066667   84.000000\n",
      "6      GradientBoostingClassifier    85.333333   83.200000\n",
      "7                      GaussianNB    82.133333   77.600000\n",
      "8                   KNNClassifier    80.000000   76.800000\n",
      "9                             SVM    49.866667   53.600000\n",
      "10                SVM with linear    83.428571   82.666667\n",
      "11          SVM using Grid Search    83.200000   80.800000\n"
     ]
    }
   ],
   "source": [
    "dfnew = dfnew.append({'Algorithms' : 'SVM using Grid Search' , 'Train Score' : clf.score(X_train, y_train)*100,\n",
    "                      'Test Score' : clf.score(X_test, y_test)*100} , ignore_index=True)\n",
    "print(dfnew)"
   ]
  },
  {
   "cell_type": "markdown",
   "metadata": {},
   "source": [
    "# Performing Grid Search on SVM using Linear"
   ]
  },
  {
   "cell_type": "code",
   "execution_count": 53,
   "metadata": {},
   "outputs": [
    {
     "data": {
      "text/plain": [
       "SVC(kernel='linear')"
      ]
     },
     "execution_count": 53,
     "metadata": {},
     "output_type": "execute_result"
    }
   ],
   "source": [
    "from sklearn.svm import SVC\n",
    "svm = SVC(kernel='linear')\n",
    "X = df[['GRE Score', 'TOEFL Score', 'University Rating', 'SOP', 'LOR ', 'CGPA', 'Research']]\n",
    "y = df['COA_classified']\n",
    "X_train, X_test, y_train, y_test = train_test_split(X, y, test_size = 0.3, random_state=190)\n",
    "\n",
    "svm.fit(X_train,y_train)"
   ]
  },
  {
   "cell_type": "code",
   "execution_count": 54,
   "metadata": {},
   "outputs": [],
   "source": [
    "from sklearn.model_selection import GridSearchCV\n",
    "param_grid = {'C':[0.1,1,10,100]}"
   ]
  },
  {
   "cell_type": "code",
   "execution_count": 55,
   "metadata": {},
   "outputs": [
    {
     "name": "stdout",
     "output_type": "stream",
     "text": [
      "Fitting 5 folds for each of 4 candidates, totalling 20 fits\n",
      "[CV 1/5] END ..........................................C=0.1; total time=   0.0s\n",
      "[CV 2/5] END ..........................................C=0.1; total time=   0.0s\n",
      "[CV 3/5] END ..........................................C=0.1; total time=   0.0s\n",
      "[CV 4/5] END ..........................................C=0.1; total time=   0.0s\n",
      "[CV 5/5] END ..........................................C=0.1; total time=   0.0s\n",
      "[CV 1/5] END ............................................C=1; total time=   0.0s\n",
      "[CV 2/5] END ............................................C=1; total time=   0.0s\n",
      "[CV 3/5] END ............................................C=1; total time=   0.0s\n",
      "[CV 4/5] END ............................................C=1; total time=   0.0s\n",
      "[CV 5/5] END ............................................C=1; total time=   0.0s\n",
      "[CV 1/5] END ...........................................C=10; total time=   0.0s\n",
      "[CV 2/5] END ...........................................C=10; total time=   0.0s\n",
      "[CV 3/5] END ...........................................C=10; total time=   0.0s\n",
      "[CV 4/5] END ...........................................C=10; total time=   0.0s\n",
      "[CV 5/5] END ...........................................C=10; total time=   0.0s\n",
      "[CV 1/5] END ..........................................C=100; total time=   0.0s\n",
      "[CV 2/5] END ..........................................C=100; total time=   0.0s\n",
      "[CV 3/5] END ..........................................C=100; total time=   0.0s\n",
      "[CV 4/5] END ..........................................C=100; total time=   0.0s\n",
      "[CV 5/5] END ..........................................C=100; total time=   0.0s\n"
     ]
    },
    {
     "data": {
      "text/plain": [
       "GridSearchCV(estimator=SVC(kernel='linear'),\n",
       "             param_grid={'C': [0.1, 1, 10, 100]}, verbose=3)"
      ]
     },
     "execution_count": 55,
     "metadata": {},
     "output_type": "execute_result"
    }
   ],
   "source": [
    "grid = GridSearchCV(SVC(kernel='linear'), param_grid, refit = True, verbose=3)\n",
    "grid.fit(X_train, y_train)"
   ]
  },
  {
   "cell_type": "code",
   "execution_count": 56,
   "metadata": {},
   "outputs": [
    {
     "name": "stdout",
     "output_type": "stream",
     "text": [
      "Accuracy Linear Kernel on training set: 83.71428571428572\n",
      "Accuracy Linear Kernel on testing set: 82.66666666666667\n"
     ]
    }
   ],
   "source": [
    "from sklearn import svm\n",
    "X = df[['GRE Score', 'TOEFL Score', 'University Rating', 'SOP', 'LOR ', 'CGPA', 'Research']]\n",
    "y = df['COA_classified']\n",
    "X_train, X_test, y_train, y_test = train_test_split(X, y, test_size = 0.3, random_state=190)\n",
    "\n",
    "linear = svm.SVC(kernel='linear', C=10).fit(X_train, y_train)\n",
    "accuracy_lin_train = linear.score(X_train, y_train)\n",
    "accuracy_lin_test = linear.score(X_test, y_test)\n",
    "print('Accuracy Linear Kernel on training set:', accuracy_lin_train*100)\n",
    "print('Accuracy Linear Kernel on testing set:', accuracy_lin_test*100)"
   ]
  },
  {
   "cell_type": "code",
   "execution_count": 57,
   "metadata": {},
   "outputs": [
    {
     "name": "stdout",
     "output_type": "stream",
     "text": [
      "                           Algorithms  Train Score  Test Score\n",
      "0                   Linear Regression    82.944361   80.082878\n",
      "1                                 SVR    64.941162   71.661007\n",
      "2                        SVR with rbf    74.390996   60.146620\n",
      "3       SVR with rbf using GRIDSearch    80.362228   75.418075\n",
      "4              DecisionTreeClassifier    86.133333   83.200000\n",
      "5              RandomForestClassifier    89.066667   84.000000\n",
      "6          GradientBoostingClassifier    85.333333   83.200000\n",
      "7                          GaussianNB    82.133333   77.600000\n",
      "8                       KNNClassifier    80.000000   76.800000\n",
      "9                                 SVM    49.866667   53.600000\n",
      "10                    SVM with linear    83.428571   82.666667\n",
      "11              SVM using Grid Search    83.200000   80.800000\n",
      "12  SVM with Linear using Grid Search    83.714286   82.666667\n"
     ]
    }
   ],
   "source": [
    "dfnew = dfnew.append({'Algorithms' : 'SVM with Linear using Grid Search' , 'Train Score' : accuracy_lin_train*100,\n",
    "                      'Test Score' : accuracy_lin_test*100} , ignore_index=True)\n",
    "print(dfnew)"
   ]
  },
  {
   "cell_type": "markdown",
   "metadata": {},
   "source": [
    "# Gram Matrix "
   ]
  },
  {
   "cell_type": "code",
   "execution_count": 58,
   "metadata": {},
   "outputs": [],
   "source": [
    "from sklearn import svm\n",
    "X = df[['GRE Score', 'TOEFL Score', 'University Rating', 'SOP', 'LOR ', 'CGPA', 'Research']]\n",
    "y = df['COA_classified']\n",
    "X_train, X_test, y_train, y_test = train_test_split(X, y, test_size = 0.3, random_state=190)"
   ]
  },
  {
   "cell_type": "code",
   "execution_count": 59,
   "metadata": {},
   "outputs": [],
   "source": [
    "clf = svm.SVC(kernel='precomputed')"
   ]
  },
  {
   "cell_type": "code",
   "execution_count": 60,
   "metadata": {},
   "outputs": [
    {
     "data": {
      "text/plain": [
       "SVC(kernel='precomputed')"
      ]
     },
     "execution_count": 60,
     "metadata": {},
     "output_type": "execute_result"
    }
   ],
   "source": [
    "gram_train = np.dot(X_train, X_train.T)\n",
    "clf.fit(gram_train, y_train)"
   ]
  },
  {
   "cell_type": "code",
   "execution_count": 61,
   "metadata": {},
   "outputs": [
    {
     "data": {
      "text/plain": [
       "array(['Medium', 'Medium', 'High', 'Medium', 'Low', 'High', 'High',\n",
       "       'High', 'Medium', 'High', 'Medium', 'Low', 'Medium', 'High',\n",
       "       'Medium', 'Medium', 'Low', 'Medium', 'Medium', 'High', 'High',\n",
       "       'Low', 'Medium', 'Medium', 'Medium', 'Medium', 'High', 'Medium',\n",
       "       'Medium', 'Medium', 'Medium', 'Medium', 'Medium', 'High', 'High',\n",
       "       'High', 'Medium', 'High', 'Low', 'High', 'Medium', 'High', 'Low',\n",
       "       'Low', 'Medium', 'Medium', 'Medium', 'Medium', 'Medium', 'Medium',\n",
       "       'Medium', 'Low', 'High', 'Low', 'Medium', 'Medium', 'Low', 'Low',\n",
       "       'Low', 'Medium', 'Low', 'Medium', 'Low', 'Low', 'Medium', 'Low',\n",
       "       'Medium', 'High', 'Low', 'Medium', 'Medium', 'Medium', 'High',\n",
       "       'Medium', 'High', 'Medium', 'High', 'Medium', 'Medium', 'Medium',\n",
       "       'Medium', 'Medium', 'High', 'Medium', 'Medium', 'High', 'Medium',\n",
       "       'Low', 'Medium', 'Low', 'Medium', 'High', 'Medium', 'Medium',\n",
       "       'High', 'High', 'Medium', 'High', 'High', 'High', 'High', 'High',\n",
       "       'Medium', 'High', 'Medium', 'Medium', 'High', 'High', 'Medium',\n",
       "       'Medium', 'High', 'High', 'Medium', 'Medium', 'Medium', 'Medium',\n",
       "       'Medium', 'High', 'High', 'Low', 'Medium', 'High', 'Medium',\n",
       "       'High', 'Low', 'Low', 'High', 'High', 'High', 'Medium', 'Medium',\n",
       "       'High', 'High', 'Medium', 'Low', 'Medium', 'Medium', 'Medium',\n",
       "       'Low', 'Medium', 'High', 'High', 'Low', 'Medium', 'Medium', 'High',\n",
       "       'High', 'High', 'Medium', 'Medium'], dtype=object)"
      ]
     },
     "execution_count": 61,
     "metadata": {},
     "output_type": "execute_result"
    }
   ],
   "source": [
    "gram_test = np.dot(X_test, X_train.T)\n",
    "clf.predict(gram_test)"
   ]
  },
  {
   "cell_type": "code",
   "execution_count": 62,
   "metadata": {},
   "outputs": [
    {
     "name": "stdout",
     "output_type": "stream",
     "text": [
      "Accuracy of SVC on training set: 83.43\n",
      "Accuracy of SVC on training set: 82.67\n"
     ]
    }
   ],
   "source": [
    "print('Accuracy of SVC on training set: {:.2f}'.format(clf.score(gram_train, y_train) * 100))\n",
    "print('Accuracy of SVC on training set: {:.2f}'.format(clf.score(gram_test, y_test) * 100))"
   ]
  },
  {
   "cell_type": "code",
   "execution_count": 63,
   "metadata": {},
   "outputs": [
    {
     "name": "stdout",
     "output_type": "stream",
     "text": [
      "                           Algorithms  Train Score  Test Score\n",
      "0                   Linear Regression    82.944361   80.082878\n",
      "1                                 SVR    64.941162   71.661007\n",
      "2                        SVR with rbf    74.390996   60.146620\n",
      "3       SVR with rbf using GRIDSearch    80.362228   75.418075\n",
      "4              DecisionTreeClassifier    86.133333   83.200000\n",
      "5              RandomForestClassifier    89.066667   84.000000\n",
      "6          GradientBoostingClassifier    85.333333   83.200000\n",
      "7                          GaussianNB    82.133333   77.600000\n",
      "8                       KNNClassifier    80.000000   76.800000\n",
      "9                                 SVM    49.866667   53.600000\n",
      "10                    SVM with linear    83.428571   82.666667\n",
      "11              SVM using Grid Search    83.200000   80.800000\n",
      "12  SVM with Linear using Grid Search    83.714286   82.666667\n",
      "13              SVM using GRAM Matrix    83.428571   82.666667\n"
     ]
    }
   ],
   "source": [
    "dfnew = dfnew.append({'Algorithms' : 'SVM using GRAM Matrix' , 'Train Score' : clf.score(gram_train, y_train)*100,\n",
    "                      'Test Score' : clf.score(gram_test, y_test)*100} , ignore_index=True)\n",
    "print(dfnew)"
   ]
  },
  {
   "cell_type": "code",
   "execution_count": 64,
   "metadata": {},
   "outputs": [
    {
     "name": "stdout",
     "output_type": "stream",
     "text": [
      "                           Algorithms  Train Score  Test Score\n",
      "5              RandomForestClassifier    89.066667   84.000000\n",
      "4              DecisionTreeClassifier    86.133333   83.200000\n",
      "6          GradientBoostingClassifier    85.333333   83.200000\n",
      "12  SVM with Linear using Grid Search    83.714286   82.666667\n",
      "10                    SVM with linear    83.428571   82.666667\n",
      "13              SVM using GRAM Matrix    83.428571   82.666667\n",
      "11              SVM using Grid Search    83.200000   80.800000\n",
      "0                   Linear Regression    82.944361   80.082878\n",
      "7                          GaussianNB    82.133333   77.600000\n",
      "3       SVR with rbf using GRIDSearch    80.362228   75.418075\n",
      "8                       KNNClassifier    80.000000   76.800000\n",
      "2                        SVR with rbf    74.390996   60.146620\n",
      "1                                 SVR    64.941162   71.661007\n",
      "9                                 SVM    49.866667   53.600000\n",
      "<class 'pandas.core.frame.DataFrame'>\n",
      "Int64Index: 14 entries, 5 to 9\n",
      "Data columns (total 3 columns):\n",
      " #   Column       Non-Null Count  Dtype  \n",
      "---  ------       --------------  -----  \n",
      " 0   Algorithms   14 non-null     object \n",
      " 1   Train Score  14 non-null     float64\n",
      " 2   Test Score   14 non-null     float64\n",
      "dtypes: float64(2), object(1)\n",
      "memory usage: 448.0+ bytes\n",
      "None\n"
     ]
    }
   ],
   "source": [
    "dffinal = dfnew.sort_values(by=['Train Score'],ascending=False)\n",
    "print(dffinal)\n",
    "print(dffinal.info())"
   ]
  },
  {
   "cell_type": "code",
   "execution_count": 65,
   "metadata": {},
   "outputs": [
    {
     "data": {
      "text/plain": [
       "Text(0, 0.5, 'Accuracy in %')"
      ]
     },
     "execution_count": 65,
     "metadata": {},
     "output_type": "execute_result"
    },
    {
     "data": {
      "image/png": "[encoded data removed]",
      "text/plain": [
       "<Figure size 1440x720 with 1 Axes>"
      ]
     },
     "metadata": {
      "needs_background": "light"
     },
     "output_type": "display_data"
    }
   ],
   "source": [
    "dffinal.plot.bar(x='Algorithms',rot=50,figsize=(20,10))\n",
    "plt.title('Final Results', fontsize=20)\n",
    "plt.ylabel('Accuracy in %', fontsize=20)"
   ]
  },
  {
   "cell_type": "markdown",
   "metadata": {},
   "source": [
    "# Conclusion: After using a total set of 14 algorithms, we arrive at the following conclusion."
   ]
  },
  {
   "cell_type": "markdown",
   "metadata": {},
   "source": [
    "# For predicting if the student will get admission in the university or not, we should use Random Forest Classifier for this dataset, as it has the highest training and testing acccuracy, 89% and 84% respectively."
   ]
  },
  {
   "cell_type": "code",
   "execution_count": null,
   "metadata": {},
   "outputs": [],
   "source": []
  }
 ],
 "metadata": {
  "kernelspec": {
   "display_name": "Python 3 (ipykernel)",
   "language": "python",
   "name": "python3"
  },
  "language_info": {
   "codemirror_mode": {
    "name": "ipython",
    "version": 3
   },
   "file_extension": ".py",
   "mimetype": "text/x-python",
   "name": "python",
   "nbconvert_exporter": "python",
   "pygments_lexer": "ipython3",
   "version": "3.9.16"
  }
 },
 "nbformat": 4,
 "nbformat_minor": 2
}
